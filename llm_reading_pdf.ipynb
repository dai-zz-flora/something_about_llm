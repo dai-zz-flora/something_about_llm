{
  "nbformat": 4,
  "nbformat_minor": 0,
  "metadata": {
    "colab": {
      "provenance": [],
      "toc_visible": true,
      "authorship_tag": "ABX9TyPplwKQiG2CHdecRAUww60j"
    },
    "kernelspec": {
      "name": "python3",
      "display_name": "Python 3"
    },
    "language_info": {
      "name": "python"
    },
    "widgets": {
      "application/vnd.jupyter.widget-state+json": {
        "90cd20f34e274a3baaa45f8e772c96e7": {
          "model_module": "@jupyter-widgets/controls",
          "model_name": "HBoxModel",
          "model_module_version": "1.5.0",
          "state": {
            "_dom_classes": [],
            "_model_module": "@jupyter-widgets/controls",
            "_model_module_version": "1.5.0",
            "_model_name": "HBoxModel",
            "_view_count": null,
            "_view_module": "@jupyter-widgets/controls",
            "_view_module_version": "1.5.0",
            "_view_name": "HBoxView",
            "box_style": "",
            "children": [
              "IPY_MODEL_0b6fbc837e974487a3a41fda4fe05181",
              "IPY_MODEL_537a71f053d144c58e539fcfe9d62162",
              "IPY_MODEL_ef8a1eab5a6c4ec79fd52e63255bf32d"
            ],
            "layout": "IPY_MODEL_4106e59cd15f4a76af1a8bbc9fa1b535"
          }
        },
        "0b6fbc837e974487a3a41fda4fe05181": {
          "model_module": "@jupyter-widgets/controls",
          "model_name": "HTMLModel",
          "model_module_version": "1.5.0",
          "state": {
            "_dom_classes": [],
            "_model_module": "@jupyter-widgets/controls",
            "_model_module_version": "1.5.0",
            "_model_name": "HTMLModel",
            "_view_count": null,
            "_view_module": "@jupyter-widgets/controls",
            "_view_module_version": "1.5.0",
            "_view_name": "HTMLView",
            "description": "",
            "description_tooltip": null,
            "layout": "IPY_MODEL_198bfb791f9a4e06bd50efdc163c1a64",
            "placeholder": "​",
            "style": "IPY_MODEL_fca8146b997c48ac84fb822e34caccd3",
            "value": "Batches: 100%"
          }
        },
        "537a71f053d144c58e539fcfe9d62162": {
          "model_module": "@jupyter-widgets/controls",
          "model_name": "FloatProgressModel",
          "model_module_version": "1.5.0",
          "state": {
            "_dom_classes": [],
            "_model_module": "@jupyter-widgets/controls",
            "_model_module_version": "1.5.0",
            "_model_name": "FloatProgressModel",
            "_view_count": null,
            "_view_module": "@jupyter-widgets/controls",
            "_view_module_version": "1.5.0",
            "_view_name": "ProgressView",
            "bar_style": "success",
            "description": "",
            "description_tooltip": null,
            "layout": "IPY_MODEL_2929efd439234ab0876d23178a4b8e98",
            "max": 2,
            "min": 0,
            "orientation": "horizontal",
            "style": "IPY_MODEL_4429f2c06d294114af8e7bf07d92a6d6",
            "value": 2
          }
        },
        "ef8a1eab5a6c4ec79fd52e63255bf32d": {
          "model_module": "@jupyter-widgets/controls",
          "model_name": "HTMLModel",
          "model_module_version": "1.5.0",
          "state": {
            "_dom_classes": [],
            "_model_module": "@jupyter-widgets/controls",
            "_model_module_version": "1.5.0",
            "_model_name": "HTMLModel",
            "_view_count": null,
            "_view_module": "@jupyter-widgets/controls",
            "_view_module_version": "1.5.0",
            "_view_name": "HTMLView",
            "description": "",
            "description_tooltip": null,
            "layout": "IPY_MODEL_764a139426a6417fae8b1a1cba2e6d2c",
            "placeholder": "​",
            "style": "IPY_MODEL_c9a40e60f1d04d43a96c5b43f6f8c6b9",
            "value": " 2/2 [00:02&lt;00:00,  1.17s/it]"
          }
        },
        "4106e59cd15f4a76af1a8bbc9fa1b535": {
          "model_module": "@jupyter-widgets/base",
          "model_name": "LayoutModel",
          "model_module_version": "1.2.0",
          "state": {
            "_model_module": "@jupyter-widgets/base",
            "_model_module_version": "1.2.0",
            "_model_name": "LayoutModel",
            "_view_count": null,
            "_view_module": "@jupyter-widgets/base",
            "_view_module_version": "1.2.0",
            "_view_name": "LayoutView",
            "align_content": null,
            "align_items": null,
            "align_self": null,
            "border": null,
            "bottom": null,
            "display": null,
            "flex": null,
            "flex_flow": null,
            "grid_area": null,
            "grid_auto_columns": null,
            "grid_auto_flow": null,
            "grid_auto_rows": null,
            "grid_column": null,
            "grid_gap": null,
            "grid_row": null,
            "grid_template_areas": null,
            "grid_template_columns": null,
            "grid_template_rows": null,
            "height": null,
            "justify_content": null,
            "justify_items": null,
            "left": null,
            "margin": null,
            "max_height": null,
            "max_width": null,
            "min_height": null,
            "min_width": null,
            "object_fit": null,
            "object_position": null,
            "order": null,
            "overflow": null,
            "overflow_x": null,
            "overflow_y": null,
            "padding": null,
            "right": null,
            "top": null,
            "visibility": null,
            "width": null
          }
        },
        "198bfb791f9a4e06bd50efdc163c1a64": {
          "model_module": "@jupyter-widgets/base",
          "model_name": "LayoutModel",
          "model_module_version": "1.2.0",
          "state": {
            "_model_module": "@jupyter-widgets/base",
            "_model_module_version": "1.2.0",
            "_model_name": "LayoutModel",
            "_view_count": null,
            "_view_module": "@jupyter-widgets/base",
            "_view_module_version": "1.2.0",
            "_view_name": "LayoutView",
            "align_content": null,
            "align_items": null,
            "align_self": null,
            "border": null,
            "bottom": null,
            "display": null,
            "flex": null,
            "flex_flow": null,
            "grid_area": null,
            "grid_auto_columns": null,
            "grid_auto_flow": null,
            "grid_auto_rows": null,
            "grid_column": null,
            "grid_gap": null,
            "grid_row": null,
            "grid_template_areas": null,
            "grid_template_columns": null,
            "grid_template_rows": null,
            "height": null,
            "justify_content": null,
            "justify_items": null,
            "left": null,
            "margin": null,
            "max_height": null,
            "max_width": null,
            "min_height": null,
            "min_width": null,
            "object_fit": null,
            "object_position": null,
            "order": null,
            "overflow": null,
            "overflow_x": null,
            "overflow_y": null,
            "padding": null,
            "right": null,
            "top": null,
            "visibility": null,
            "width": null
          }
        },
        "fca8146b997c48ac84fb822e34caccd3": {
          "model_module": "@jupyter-widgets/controls",
          "model_name": "DescriptionStyleModel",
          "model_module_version": "1.5.0",
          "state": {
            "_model_module": "@jupyter-widgets/controls",
            "_model_module_version": "1.5.0",
            "_model_name": "DescriptionStyleModel",
            "_view_count": null,
            "_view_module": "@jupyter-widgets/base",
            "_view_module_version": "1.2.0",
            "_view_name": "StyleView",
            "description_width": ""
          }
        },
        "2929efd439234ab0876d23178a4b8e98": {
          "model_module": "@jupyter-widgets/base",
          "model_name": "LayoutModel",
          "model_module_version": "1.2.0",
          "state": {
            "_model_module": "@jupyter-widgets/base",
            "_model_module_version": "1.2.0",
            "_model_name": "LayoutModel",
            "_view_count": null,
            "_view_module": "@jupyter-widgets/base",
            "_view_module_version": "1.2.0",
            "_view_name": "LayoutView",
            "align_content": null,
            "align_items": null,
            "align_self": null,
            "border": null,
            "bottom": null,
            "display": null,
            "flex": null,
            "flex_flow": null,
            "grid_area": null,
            "grid_auto_columns": null,
            "grid_auto_flow": null,
            "grid_auto_rows": null,
            "grid_column": null,
            "grid_gap": null,
            "grid_row": null,
            "grid_template_areas": null,
            "grid_template_columns": null,
            "grid_template_rows": null,
            "height": null,
            "justify_content": null,
            "justify_items": null,
            "left": null,
            "margin": null,
            "max_height": null,
            "max_width": null,
            "min_height": null,
            "min_width": null,
            "object_fit": null,
            "object_position": null,
            "order": null,
            "overflow": null,
            "overflow_x": null,
            "overflow_y": null,
            "padding": null,
            "right": null,
            "top": null,
            "visibility": null,
            "width": null
          }
        },
        "4429f2c06d294114af8e7bf07d92a6d6": {
          "model_module": "@jupyter-widgets/controls",
          "model_name": "ProgressStyleModel",
          "model_module_version": "1.5.0",
          "state": {
            "_model_module": "@jupyter-widgets/controls",
            "_model_module_version": "1.5.0",
            "_model_name": "ProgressStyleModel",
            "_view_count": null,
            "_view_module": "@jupyter-widgets/base",
            "_view_module_version": "1.2.0",
            "_view_name": "StyleView",
            "bar_color": null,
            "description_width": ""
          }
        },
        "764a139426a6417fae8b1a1cba2e6d2c": {
          "model_module": "@jupyter-widgets/base",
          "model_name": "LayoutModel",
          "model_module_version": "1.2.0",
          "state": {
            "_model_module": "@jupyter-widgets/base",
            "_model_module_version": "1.2.0",
            "_model_name": "LayoutModel",
            "_view_count": null,
            "_view_module": "@jupyter-widgets/base",
            "_view_module_version": "1.2.0",
            "_view_name": "LayoutView",
            "align_content": null,
            "align_items": null,
            "align_self": null,
            "border": null,
            "bottom": null,
            "display": null,
            "flex": null,
            "flex_flow": null,
            "grid_area": null,
            "grid_auto_columns": null,
            "grid_auto_flow": null,
            "grid_auto_rows": null,
            "grid_column": null,
            "grid_gap": null,
            "grid_row": null,
            "grid_template_areas": null,
            "grid_template_columns": null,
            "grid_template_rows": null,
            "height": null,
            "justify_content": null,
            "justify_items": null,
            "left": null,
            "margin": null,
            "max_height": null,
            "max_width": null,
            "min_height": null,
            "min_width": null,
            "object_fit": null,
            "object_position": null,
            "order": null,
            "overflow": null,
            "overflow_x": null,
            "overflow_y": null,
            "padding": null,
            "right": null,
            "top": null,
            "visibility": null,
            "width": null
          }
        },
        "c9a40e60f1d04d43a96c5b43f6f8c6b9": {
          "model_module": "@jupyter-widgets/controls",
          "model_name": "DescriptionStyleModel",
          "model_module_version": "1.5.0",
          "state": {
            "_model_module": "@jupyter-widgets/controls",
            "_model_module_version": "1.5.0",
            "_model_name": "DescriptionStyleModel",
            "_view_count": null,
            "_view_module": "@jupyter-widgets/base",
            "_view_module_version": "1.2.0",
            "_view_name": "StyleView",
            "description_width": ""
          }
        }
      }
    }
  },
  "cells": [
    {
      "cell_type": "markdown",
      "source": [
        "<a href=\"https://colab.research.google.com/github/dai-zz-flora/something_about_llm/blob/main/llm_reading_pdf.ipynb\" target=\"_parent\"><img src=\"https://colab.research.google.com/assets/colab-badge.svg\" alt=\"Open In Colab\"/></a>"
      ],
      "metadata": {
        "id": "O3HG30veVl5y"
      }
    },
    {
      "cell_type": "markdown",
      "source": [
        "# 说明\n",
        "本脚本展示的是如何使用transformer,faiss,sentence-transformers库来调用大语言模型来分析PDF文档，根据文档内容进行问答\n",
        "\n",
        "本文的大语言模型使用的是清华的chatglm，版本是THUDM/chatglm-6b-int4\n",
        "\n"
      ],
      "metadata": {
        "id": "cUj9CetwS1Xl"
      }
    },
    {
      "cell_type": "markdown",
      "source": [
        "# 准备工作\n"
      ],
      "metadata": {
        "id": "jnxz3f55UBIr"
      }
    },
    {
      "cell_type": "markdown",
      "source": [
        "## 1. 检测GPU"
      ],
      "metadata": {
        "id": "8WLj6KyUhJGb"
      }
    },
    {
      "cell_type": "code",
      "source": [
        "!nvidia-smi"
      ],
      "metadata": {
        "id": "afavknLeWjbT",
        "colab": {
          "base_uri": "https://localhost:8080/"
        },
        "outputId": "ed380763-e8ca-4a45-e394-cc286881e475"
      },
      "execution_count": null,
      "outputs": [
        {
          "output_type": "stream",
          "name": "stdout",
          "text": [
            "Thu May 25 14:34:54 2023       \n",
            "+-----------------------------------------------------------------------------+\n",
            "| NVIDIA-SMI 525.85.12    Driver Version: 525.85.12    CUDA Version: 12.0     |\n",
            "|-------------------------------+----------------------+----------------------+\n",
            "| GPU  Name        Persistence-M| Bus-Id        Disp.A | Volatile Uncorr. ECC |\n",
            "| Fan  Temp  Perf  Pwr:Usage/Cap|         Memory-Usage | GPU-Util  Compute M. |\n",
            "|                               |                      |               MIG M. |\n",
            "|===============================+======================+======================|\n",
            "|   0  Tesla T4            Off  | 00000000:00:04.0 Off |                    0 |\n",
            "| N/A   53C    P8     9W /  70W |      0MiB / 15360MiB |      0%      Default |\n",
            "|                               |                      |                  N/A |\n",
            "+-------------------------------+----------------------+----------------------+\n",
            "                                                                               \n",
            "+-----------------------------------------------------------------------------+\n",
            "| Processes:                                                                  |\n",
            "|  GPU   GI   CI        PID   Type   Process name                  GPU Memory |\n",
            "|        ID   ID                                                   Usage      |\n",
            "|=============================================================================|\n",
            "|  No running processes found                                                 |\n",
            "+-----------------------------------------------------------------------------+\n"
          ]
        }
      ]
    },
    {
      "cell_type": "markdown",
      "source": [
        "## 2. 安装必要的python库\n",
        "\n",
        "本文会用到transformer、faiss等比较有名的python库"
      ],
      "metadata": {
        "id": "J-VXhJihW1LG"
      }
    },
    {
      "cell_type": "code",
      "source": [
        "!apt -y update -qq\n",
        "!apt -y install -qq aria2\n",
        "!pip install -q transformers datasets  sentencepiece cpm_kernels mdtex2html accelerate sentencepiece install faiss-gpu  sentence-transformers  PyPDF2 pdfplumber"
      ],
      "metadata": {
        "id": "6kKZlSQtXM2m",
        "colab": {
          "base_uri": "https://localhost:8080/"
        },
        "outputId": "78ceb250-a4d6-4435-a17f-9b3df7f9d368"
      },
      "execution_count": null,
      "outputs": [
        {
          "output_type": "stream",
          "name": "stdout",
          "text": [
            "\u001b[2K     \u001b[90m━━━━━━━━━━━━━━━━━━━━━━━━━━━━━━━━━━━━━━━\u001b[0m \u001b[32m232.6/232.6 kB\u001b[0m \u001b[31m2.4 MB/s\u001b[0m eta \u001b[36m0:00:00\u001b[0m\n",
            "\u001b[2K     \u001b[90m━━━━━━━━━━━━━━━━━━━━━━━━━━━━━━━━━━━━━━━━\u001b[0m \u001b[32m46.1/46.1 kB\u001b[0m \u001b[31m5.6 MB/s\u001b[0m eta \u001b[36m0:00:00\u001b[0m\n",
            "\u001b[2K     \u001b[90m━━━━━━━━━━━━━━━━━━━━━━━━━━━━━━━━━━━━━━\u001b[0m \u001b[32m143.6/143.6 kB\u001b[0m \u001b[31m12.4 MB/s\u001b[0m eta \u001b[36m0:00:00\u001b[0m\n",
            "\u001b[2K     \u001b[90m━━━━━━━━━━━━━━━━━━━━━━━━━━━━━━━━━━━━━━━━\u001b[0m \u001b[32m3.4/3.4 MB\u001b[0m \u001b[31m25.4 MB/s\u001b[0m eta \u001b[36m0:00:00\u001b[0m\n",
            "\u001b[2K     \u001b[90m━━━━━━━━━━━━━━━━━━━━━━━━━━━━━━━━━━━━━━━━\u001b[0m \u001b[32m5.6/5.6 MB\u001b[0m \u001b[31m61.0 MB/s\u001b[0m eta \u001b[36m0:00:00\u001b[0m\n",
            "\u001b[?25h"
          ]
        }
      ]
    },
    {
      "cell_type": "markdown",
      "source": [
        "## 3. 下载测试pdf文档"
      ],
      "metadata": {
        "id": "GgvRpJLyXVgp"
      }
    },
    {
      "cell_type": "code",
      "source": [
        "%cd /content\n",
        "!aria2c --console-log-level=error -c -x 16 -s 16 -k 1M \"https://ask.qcloudimg.com/draft/1103456/9xw693yh19.pdf\" -d /content/ -o \"腾讯云区块链TBaaS产品白皮书.pdf\""
      ],
      "metadata": {
        "id": "RMiaMO4EXhcp",
        "colab": {
          "base_uri": "https://localhost:8080/"
        },
        "outputId": "f1f2d932-2930-48ee-f665-4c8150fabeed"
      },
      "execution_count": null,
      "outputs": [
        {
          "output_type": "stream",
          "name": "stdout",
          "text": [
            "/content\n",
            "\u001b[0m\n",
            "Download Results:\n",
            "gid   |stat|avg speed  |path/URI\n",
            "======+====+===========+=======================================================\n",
            "1fe5aa|\u001b[1;32mOK\u001b[0m  |   584KiB/s|/content//腾讯云区块链TBaaS产品白皮书.pdf\n",
            "\n",
            "Status Legend:\n",
            "(OK):download completed.\n"
          ]
        }
      ]
    },
    {
      "cell_type": "markdown",
      "source": [
        "## 4. 定义一个pdf解析函数"
      ],
      "metadata": {
        "id": "Ev5EOuf1cBrM"
      }
    },
    {
      "cell_type": "code",
      "source": [
        "import PyPDF2\n",
        "import pdfplumber\n",
        "import pandas as pd\n",
        "\n",
        "\n",
        "def parse_pdf(pdf_path):\n",
        "    text_pages = []\n",
        "    images = []\n",
        "    tables = []\n",
        "\n",
        "    # parse text from pdf\n",
        "    with open(pdf_path, 'rb') as file:\n",
        "        reader = PyPDF2.PdfReader(file)\n",
        "        num_pages = len(reader.pages)\n",
        "\n",
        "        for i in range(num_pages):\n",
        "            page = reader.pages[i]\n",
        "            text = page.extract_text()\n",
        "            text_pages.append(text)\n",
        "\n",
        "    \n",
        "\n",
        "    # get images and tables from pdf\n",
        "    with pdfplumber.open(pdf_path) as pdf:\n",
        "        for page in pdf.pages:\n",
        "            # 解析图片\n",
        "            extracted_images = page.images\n",
        "            images.extend(extracted_images)\n",
        "\n",
        "            # 解析表格\n",
        "            extracted_tables = page.extract_tables()\n",
        "            for table in extracted_tables:\n",
        "                df = pd.DataFrame(table[1:], columns=table[0])\n",
        "                tables.append(df)\n",
        "\n",
        "    return text_pages, images, tables"
      ],
      "metadata": {
        "id": "84L1oARMcAR7"
      },
      "execution_count": null,
      "outputs": []
    },
    {
      "cell_type": "markdown",
      "source": [
        "## 5. 初始化模型\n",
        "\n",
        "这里我们使用量化后的模型THUDM/chatglm-6b-int4，减少内存占用"
      ],
      "metadata": {
        "id": "CQeiocJUjrQa"
      }
    },
    {
      "cell_type": "code",
      "source": [
        "from transformers import AutoTokenizer, AutoModel\n",
        "mode_name='THUDM/chatglm-6b-int4'\n",
        "tokenizer = AutoTokenizer.from_pretrained(mode_name, trust_remote_code=True)\n",
        "model = AutoModel.from_pretrained(mode_name, trust_remote_code=True).half().cuda()"
      ],
      "metadata": {
        "id": "7p6OsomzjpSO",
        "colab": {
          "base_uri": "https://localhost:8080/"
        },
        "outputId": "a8d58640-71e1-4574-eea7-2ecaa22193a4"
      },
      "execution_count": null,
      "outputs": [
        {
          "output_type": "stream",
          "name": "stdout",
          "text": [
            "No compiled kernel found.\n",
            "Compiling kernels : /root/.cache/huggingface/modules/transformers_modules/THUDM/chatglm-6b-int4/02a065cf2797029c036a02cac30f1da1a9bc49a3/quantization_kernels.c\n",
            "Compiling gcc -O3 -fPIC -std=c99 /root/.cache/huggingface/modules/transformers_modules/THUDM/chatglm-6b-int4/02a065cf2797029c036a02cac30f1da1a9bc49a3/quantization_kernels.c -shared -o /root/.cache/huggingface/modules/transformers_modules/THUDM/chatglm-6b-int4/02a065cf2797029c036a02cac30f1da1a9bc49a3/quantization_kernels.so\n",
            "Load kernel : /root/.cache/huggingface/modules/transformers_modules/THUDM/chatglm-6b-int4/02a065cf2797029c036a02cac30f1da1a9bc49a3/quantization_kernels.so\n",
            "Using quantization cache\n",
            "Applying quantization to glm layers\n"
          ]
        }
      ]
    },
    {
      "cell_type": "markdown",
      "source": [
        "# PDF解析\n",
        "\n",
        "\n"
      ],
      "metadata": {
        "id": "uo2RH2RNgp4W"
      }
    },
    {
      "cell_type": "markdown",
      "source": [
        "## 1. 解析PDF"
      ],
      "metadata": {
        "id": "ZgtpYveFhzYf"
      }
    },
    {
      "cell_type": "code",
      "source": [
        "parsed_text, parsed_images, parsed_tables = parse_pdf(\"/content/腾讯云区块链TBaaS产品白皮书.pdf\")"
      ],
      "metadata": {
        "id": "futaUOlAhXaf"
      },
      "execution_count": null,
      "outputs": []
    },
    {
      "cell_type": "markdown",
      "source": [
        "## 2. 生成文本向量\n",
        "\n",
        "使用 [sentence transformers库](https://www.sbert.net/) 来生成基于词嵌入的文本向量，选用的模型是 [GanymedeNil/text2vec-large-chinese](https://huggingface.co/GanymedeNil/text2vec-large-chinese)"
      ],
      "metadata": {
        "id": "7xiyLMVNiHvP"
      }
    },
    {
      "cell_type": "code",
      "source": [
        "import faiss\n",
        "import numpy as np\n",
        "from sentence_transformers import SentenceTransformer\n",
        "embeddings_model = SentenceTransformer(\"shibing624/text2vec-base-chinese\")\n",
        "# Compute embeddings for all senteces in the corpus\n",
        "embeddings_corpus = embeddings_model.encode(parsed_text, show_progress_bar=True)\n",
        "\n",
        "# Change data type of embeddings\n",
        "embeddings = np.array([embedding for embedding in embeddings_corpus]).astype(\"float32\")"
      ],
      "metadata": {
        "id": "ecqcJZg_iQ01",
        "colab": {
          "base_uri": "https://localhost:8080/",
          "height": 49,
          "referenced_widgets": [
            "90cd20f34e274a3baaa45f8e772c96e7",
            "0b6fbc837e974487a3a41fda4fe05181",
            "537a71f053d144c58e539fcfe9d62162",
            "ef8a1eab5a6c4ec79fd52e63255bf32d",
            "4106e59cd15f4a76af1a8bbc9fa1b535",
            "198bfb791f9a4e06bd50efdc163c1a64",
            "fca8146b997c48ac84fb822e34caccd3",
            "2929efd439234ab0876d23178a4b8e98",
            "4429f2c06d294114af8e7bf07d92a6d6",
            "764a139426a6417fae8b1a1cba2e6d2c",
            "c9a40e60f1d04d43a96c5b43f6f8c6b9"
          ]
        },
        "outputId": "d3882e09-cfb3-4c55-ea58-98e354476ec8"
      },
      "execution_count": null,
      "outputs": [
        {
          "output_type": "display_data",
          "data": {
            "text/plain": [
              "Batches:   0%|          | 0/2 [00:00<?, ?it/s]"
            ],
            "application/vnd.jupyter.widget-view+json": {
              "version_major": 2,
              "version_minor": 0,
              "model_id": "90cd20f34e274a3baaa45f8e772c96e7"
            }
          },
          "metadata": {}
        }
      ]
    },
    {
      "cell_type": "markdown",
      "source": [
        "##3. 利用faiss库建立向量空间索引"
      ],
      "metadata": {
        "id": "rWd1JP3RiPTU"
      }
    },
    {
      "cell_type": "code",
      "source": [
        "\n",
        "# Instantiate the index with faiss\n",
        "index = faiss.IndexFlatL2(embeddings.shape[1])\n",
        "\n",
        "# # Pass the index to IndexIDMap\n",
        "# index = faiss.IndexIDMap(index\n",
        "index.add(embeddings)"
      ],
      "metadata": {
        "id": "OYzVq4EFjDRZ"
      },
      "execution_count": null,
      "outputs": []
    },
    {
      "cell_type": "markdown",
      "source": [
        "# 使用ChatGLM-6B来构建对话模型\n"
      ],
      "metadata": {
        "id": "r87aPza9jLNA"
      }
    },
    {
      "cell_type": "markdown",
      "source": [
        "## 1. 初始化问题，并在向量空间索引中搜寻相关章节\n",
        "\n",
        "2.1. 生成问题向量\n",
        "\n",
        "2.2 搜寻前5个相似的章节\n",
        "\n",
        "2.3 将章节拼接为上下文"
      ],
      "metadata": {
        "id": "UbXR1S_QkDKW"
      }
    },
    {
      "cell_type": "code",
      "source": [
        "question = '白皮书都讲了什么'\n",
        "question_vector = embeddings_model.encode([question])\n",
        "\n",
        "# 查询最相似的文本\n",
        "k = 5  # 返回最近邻的数量\n",
        "_, indices = index.search(np.array(question_vector).astype(\"float32\"), k)\n",
        "\n",
        "# 获取最相关的文本\n",
        "related_docs = [parsed_text[idx] for idx in indices[0]]\n",
        "# 拼接上下文\n",
        "context = \"\\n\".join([content for content in related_docs])\n",
        "# for text in related_docs:\n",
        "#   print(text)"
      ],
      "metadata": {
        "id": "BovsiWqGkPas"
      },
      "execution_count": null,
      "outputs": []
    },
    {
      "cell_type": "markdown",
      "source": [
        "## 2. 根据问题模板生成问题"
      ],
      "metadata": {
        "id": "96CDF3MkkONB"
      }
    },
    {
      "cell_type": "code",
      "source": [
        "PROMPT_TEMPLATE = \"\"\"已知信息：\n",
        "{context} \n",
        "\n",
        "根据上述已知信息，简洁和专业的来回答用户的问题。如果无法从中得到答案，请说 “根据已知信息无法回答该问题” 或 “没有提供足够的相关信息”，不允许在答案中添加编造成分，答案请使用中文。 问题是：{question}\"\"\"\n",
        "\n",
        "prompt = PROMPT_TEMPLATE.replace(\"{question}\", question).replace(\"{context}\", context)"
      ],
      "metadata": {
        "id": "94RUp27eljqy"
      },
      "execution_count": null,
      "outputs": []
    },
    {
      "cell_type": "markdown",
      "source": [
        "## 3. 交给模型解答问题"
      ],
      "metadata": {
        "id": "6-KzyuRslhwT"
      }
    },
    {
      "cell_type": "code",
      "source": [
        "import torch\n",
        "max_token = 10000\n",
        "temperature = 0.8\n",
        "top_p = 0.9\n",
        "history = []\n",
        "\n",
        "response, _ = model.chat(tokenizer,prompt,history=[],max_length=max_token,temperature=temperature,top_p=top_p,)\n",
        "\n",
        "\n",
        "print(response)\n",
        "print(\"\\n相关文档如下\\n\")\n",
        "for text in related_docs:\n",
        "  print(text)\n",
        "  print(\"\\n\")"
      ],
      "metadata": {
        "id": "UABUVmTamXkP",
        "colab": {
          "base_uri": "https://localhost:8080/"
        },
        "outputId": "7f2d267b-52d4-4640-a039-19478c46760c"
      },
      "execution_count": null,
      "outputs": [
        {
          "output_type": "stream",
          "name": "stderr",
          "text": [
            "WARNING:transformers_modules.THUDM.chatglm-6b-int4.02a065cf2797029c036a02cac30f1da1a9bc49a3.modeling_chatglm:The dtype of attention mask (torch.int64) is not bool\n"
          ]
        },
        {
          "output_type": "stream",
          "name": "stdout",
          "text": [
            "本白皮书主要介绍了区块链技术和应用，包括其起源、发展、应用领域和未来发展。\n",
            "\n",
            "1. 区块链的起源和发展\n",
            "\n",
            "区块链是一种基于去中心化技术的新型互联网协议，可以让数据在网络中分布式存储和传输，具有去中介化、不可篡改、安全性高等特点。区块链技术最早由中本聪在2009年提出，目前已经成为互联网的重要组成部分。\n",
            "\n",
            "2. 区块链的应用\n",
            "\n",
            "区块链可以用于多种应用，包括数字货币、智能合约、供应链管理、物联网等。其中，数字货币是区块链技术最为广泛的应用之一。\n",
            "\n",
            "3. 区块链的应用领域\n",
            "\n",
            "区块链在数字货币中的应用非常广泛，如比特币、以太坊等。同时，区块链还可以用于智能合约、供应链管理、物联网等领域。\n",
            "\n",
            "4. 区块链的未来发展\n",
            "\n",
            "随着区块链技术的不断发展和成熟，未来区块链将广泛应用于金融、医疗、物流等领域。同时，区块链技术也将成为未来互联网的重要基础设施。\n",
            "\n",
            "相关文档如下\n",
            "\n",
            "อ࿟ᄉ౵ॶ৽5#BB4Ӂ௖Ϣ௃඀\n",
            "三、对腾讯云区块链（TBaaS）开发平台的介绍。首先介绍了腾讯云区块链诞生的原\n",
            "因，并对其设计原则进行了详细讲解， 然后说明了其能够为行业带来的不同服务能力， 最后对\n",
            "其后台技术架构进行了相关介绍。\n",
            "四、 基于腾讯云区块链 （TBaaS） 的应用场景及解决方案。 提出了包括在共享账本、 公证与\n",
            "记录、 互助保障、 数字资产 、 防伪溯源、 物联网、 共享经济等应用场景能够解决的业务痛点， 并分别枚举了相关案例进行阐述说明。\n",
            "五、 对区块链未来应用的展望。 基于现有的区块链应用场景， 对区块链的多平台互通、 链外\n",
            "信任机制， 以及其在未来能够带来的更大价值进行了开放式的展望和创想。\n",
            "                                                                                          腾讯云区块链团队                                                                                             2018年3月30日前言\n",
            "每一次产业变革的浪潮都带给世界全新的机遇与想象。\n",
            "区块链技术的诞生，真正意义上为数字经济提供了全新的价值转移通道，其应用场景几\n",
            "乎不可限量。工信部于2016年正式发布的《中国区块链技术和应用发展白皮书》，充分展示了国家层面对区块链技术的重视程度。\n",
            "然而，目前区块链底层技术不完全成熟、基础设施未全面完善的形势还没有获得根本性\n",
            "转变，企业无法快速地投入生产力到基于区块链技术的各种业务场景中去，区块链技术面临的普及性问题亟待解决，值此关键时间窗口，腾讯云区块链（TBaaS）破茧而生。\n",
            "2015年3月，“互联网+”战略被写入政府工作报告成为国家级战略，腾讯坚持做互联网\n",
            "连接器的定位，完全契合国家层面的指引方针。腾讯云区块链（TBaaS）同样延续了腾讯的战略定位，以降低区块链技术的应用门槛、打造可信赖的企业间价值通道为使命。腾讯云区块链（TBaaS）的推出，将使个人、企业级用户不仅能够便捷、高效、安全地享受到区块链\n",
            "技术的价值，且对其主体业务不会造成任何形式的侵扰，充分体现了“区块链+”的战略定\n",
            "位。\n",
            "大鹏一日同风起，扶摇直上九万里。体量巨大的市场需求和前景可期的应用场景，将为\n",
            "整个区块链生态的发展提供强大助力。腾讯云自始至终是值得信任的云服务平台，我们热忱期待与行业为伍、与趋势为伴，为企业、个人客户提供更为优质的云服务，带来更为友好的云体验，为云技术、区块链技术的繁荣发展做出应有的贡献。\n",
            "腾讯云区块链（TBaaS）将是一个有能力为客户创造和提供商业价值的智能服务平台，\n",
            "其以云计算平台为依托，利用区块链技术与各行业应用相互融合，推动自有产业转型升级，为客户创造全新的产品、业务和商业模式。为了充分阐明和体现腾讯云区块链（TBaaS）能\n",
            "够赋予全行业的商业能力，我们编写了本白皮书，主要包含如下内容：\n",
            "一、阐述了区块链的起源与发展。首先对区块链的技术原理进行了讲解，提出了区块链\n",
            "多方共识、弱中心化、信息不可篡改以及智能合约等特点，并介绍了区块链在社会关系、经济效益等层面所带来的积极意义。\n",
            "二、对区块链应用领域的介绍。通过援引“区块链+场景”的案例，详细阐述了区块链在\n",
            "金融、供应链、公益慈善、公共服务、物联网、共享经济等相关领域的各类应用。\n",
            "\n",
            "\n",
            "三、对腾讯云区块链（TBaaS）开发平台的介绍。首先介绍了腾讯云区块链诞生的原\n",
            "因，并对其设计原则进行了详细讲解， 然后说明了其能够为行业带来的不同服务能力， 最后对\n",
            "其后台技术架构进行了相关介绍。\n",
            "四、 基于腾讯云区块链 （TBaaS） 的应用场景及解决方案。 提出了包括在共享账本、 公证与\n",
            "记录、 互助保障、 数字资产 、 防伪溯源、 物联网、 共享经济等应用场景能够解决的业务痛点， 并分别枚举了相关案例进行阐述说明。\n",
            "五、 对区块链未来应用的展望。 基于现有的区块链应用场景， 对区块链的多平台互通、 链外\n",
            "信任机制， 以及其在未来能够带来的更大价值进行了开放式的展望和创想。\n",
            "                                                                                          腾讯云区块链团队                                                                                             2018年3月30日อ࿟ᄉ౵ॶ৽5#BB4Ӂ௖Ϣ௃඀\n",
            "每一次产业变革的浪潮都带给世界全新的机遇与想象。\n",
            "区块链技术的诞生，真正意义上为数字经济提供了全新的价值转移通道，其应用场景几\n",
            "乎不可限量。工信部于2016年正式发布的《中国区块链技术和应用发展白皮书》，充分展示了国家层面对区块链技术的重视程度。\n",
            "然而，目前区块链底层技术不完全成熟、基础设施未全面完善的形势还没有获得根本性\n",
            "转变，企业无法快速地投入生产力到基于区块链技术的各种业务场景中去，区块链技术面临的普及性问题亟待解决，值此关键时间窗口，腾讯云区块链（TBaaS）破茧而生。\n",
            "2015年3月，“互联网+”战略被写入政府工作报告成为国家级战略，腾讯坚持做互联网\n",
            "连接器的定位，完全契合国家层面的指引方针。腾讯云区块链（TBaaS）同样延续了腾讯的战略定位，以降低区块链技术的应用门槛、打造可信赖的企业间价值通道为使命。腾讯云区块链（TBaaS）的推出，将使个人、企业级用户不仅能够便捷、高效、安全地享受到区块链\n",
            "技术的价值，且对其主体业务不会造成任何形式的侵扰，充分体现了“区块链+”的战略定\n",
            "位。\n",
            "大鹏一日同风起，扶摇直上九万里。体量巨大的市场需求和前景可期的应用场景，将为\n",
            "整个区块链生态的发展提供强大助力。腾讯云自始至终是值得信任的云服务平台，我们热忱期待与行业为伍、与趋势为伴，为企业、个人客户提供更为优质的云服务，带来更为友好的云体验，为云技术、区块链技术的繁荣发展做出应有的贡献。\n",
            "腾讯云区块链（TBaaS）将是一个有能力为客户创造和提供商业价值的智能服务平台，\n",
            "其以云计算平台为依托，利用区块链技术与各行业应用相互融合，推动自有产业转型升级，为客户创造全新的产品、业务和商业模式。为了充分阐明和体现腾讯云区块链（TBaaS）能\n",
            "够赋予全行业的商业能力，我们编写了本白皮书，主要包含如下内容：\n",
            "一、阐述了区块链的起源与发展。首先对区块链的技术原理进行了讲解，提出了区块链\n",
            "多方共识、弱中心化、信息不可篡改以及智能合约等特点，并介绍了区块链在社会关系、经济效益等层面所带来的积极意义。\n",
            "二、对区块链应用领域的介绍。通过援引“区块链+场景”的案例，详细阐述了区块链在\n",
            "金融、供应链、公益慈善、公共服务、物联网、共享经济等相关领域的各类应用。\n",
            "\n",
            "\n",
            "54อ࿟ᄉ౵ॶ৽5#BB4Ӂ௖Ϣ௃඀\n",
            " 6. 参考文献\n",
            "1.   S. Nakamoto, Bitcoin: A peer-to-peer electronic cash system (2009): https://ww\n",
            "      w.bitcoin.org/bitcoin.pdf2.   Blockchain Technology Beyond Bitcoin, UC Berkeley. (2015)3.   Is Blockchain the Next Big Discruption? , Neeley School of Business TCU. (April      2017)4.   Gmane.Org (2008)：http://article.gmane.org/gmane.comp.encryption.gener\n",
            "      al/12588/\n",
            "5.   工信部: 中国区块链技术应用和发展白皮书(2016)6.   麦肯锡: 区块链-银行业游戏规则的颠覆者(2016)7.   Don T, Alex T. (October 2016): Blockchain Revolution8.   高盛: 区块链从理论走向实践(2016)9.   Bashir, Imran (2017). Mastering Blockchain. Packt Publishing, Ltd. ISBN       978-1-78712-544-5.10.  BlockchainHub. (January 19, 2018): \"Blockchains & Distributed Ledger Technologies\".11.  Hyperledger Fabric Website: https://www.hyperledger.org/projects/fabric12.  Hyperledger Blockchain Project Is Not About Bitcoin\". Retrieved October 17, 201613.  Mazonka, Oleg. (December 29, 2016): Blockchain: Simple Explanation. Journal of \n",
            "      Reference.\n",
            "14.  A Next-Generation Smart Contract and Decentralized Application Platform，      https://github.com/ethereum/wiki/wiki/White-Paper#bit      coin-as-a-state-transition-system15. UK Government Chief Scientiﬁc Adviser (2016) : Distributed Ledger Technology:\n",
            "      beyond block chain\n",
            "16. Brown, R. G. (2016). Introducing R3 Corda: A Distributed Ledger for Financial Services. \n",
            "\n",
            "\n",
            "16อ࿟ᄉ౵ॶ৽5#BB4Ӂ௖Ϣ௃඀\n",
            "2.5 物联网领域 \n",
            "物联网（IoT）蓬勃发展的今天，它不仅给个人消费带来变化，还给整个社会发展带来了深刻变\n",
            "化。目前，大型的物联网平台依靠中心化模型控制各个电子设备之间链接与交互，但是在很多场景\n",
            "下，这种方法变得不是那么实际，比如设备进行数据交换时其中的数据真实性和安全性不能得到保障。 而分布式物联网平台正好可以解决这一问题。区块链技术可以帮助实现物联网平台的分布式数据存储，交互，保证数据的安全性和可信性，同时可以记录数据交互的信息。区块链在工业设备、智慧交通与智慧城市等等领域都可以有很好的应用，比如在建筑领域，区块链技术创建了一个去中\n",
            "心化的物联网账簿，账簿可以记录和保存所有智能设备间的交互信息。例如，国外创业公司\n",
            "Filament，运用区块链技术将智能设备信息上链，每个设备在公共账簿上拥有唯一身份信息，打造了一个去中心化的物联网平台。\n",
            "2.6 共享经济领域 \n",
            "谈到共享经济，总会让人想到共享单车/汽车，共享房屋，甚至共享电力等等。目前，共享经\n",
            "济，它还停留在依靠一个公司或一个平台，让交易双方通过这个中心机构达成交易，完成使用权的不断转移与共享。然而，这并不是真正的共享经济，真正的共享经济是不需要任何第三方中介，用户间可以点对点的进行交易。恰好，区块链技术可以解决这个问题，因区块链其自身所拥有的去中心去中介化的特征，传输数据的过程中数据不可篡改且真实可信，它可以帮助创建出一个真正的的共享经济。比如，国外目前很流行的房屋租赁平台Airbnb，一旦运用区块链技术，用户们就可以不\n",
            "再通过Airbnb平台租赁房屋，而是用户间可以点对点的进行房屋空间共享。这种共享经济的生态网\n",
            "络，让闲置的资源，比如房屋、汽车、电力和存储等等都可以实现共享，并给所有共享贡献者经济回报，给共享服务接受者成本更低质量更好的服务。这样，共享经济优势才真正显现出来，优化整个社会资源配置和流通，减少资源的不必要浪费，最终实现共享经济。\n",
            "\n",
            "\n",
            "8อ࿟ᄉ౵ॶ৽5#BB4Ӂ௖Ϣ௃඀\n",
            "1. 区块链起源与发展\n",
            "上世纪下半叶互联网的飞速发展，让人们在信息互联探索的道路上越发成熟，一封电子邮件转\n",
            "瞬就可以环游全球，一张美丽的风景照片很快就可以分享给全世界。可以看到，互联网发展至今，\n",
            "每一项新技术的诞生都在深刻改变着人们的生活方式。如今，一个冉冉升起的新技术——区块链(Blockchain)，来到历史舞台前沿，它让全世界范围内任何一笔比特币(Bitcoin)资产交易在短时间内就可以成功确认。不仅仅是信息的互联，区块链技术帮助实现了价值的互联，这使得越来越多的人关注到区块链技术，了解其原理并应用实践。 \n",
            "区块链(Blockchain)源于两个标志性事件：1）2008年11月Satoshi Nakamoto（中本聪）发布的一篇论文《Bitcoin: A Peer-to-Peer \n",
            "Electronic Cash System》, 翻译名为《比特币：一种点对点的电子现金系统》；\n",
            "2）2009年1月3日，中本聪公布比特币系统的第一个区块——创世区块，世界上第一个区块链\n",
            "数据诞生。\n",
            "而后，2013年，程序员Vitalik Buterin受比特币启发后提出以太坊的概念(Ethereum)，并在\n",
            "2014年成立基金会开始发展。发展至今，比特币和以太坊已成为互联网上规模最大的区块链项目。 区块链技术也被逐渐应用于各个领域中。\n",
            "在国际上，全球已经有超过24个国家投资区块链技术，80%的银行已启动区块链项目，90多个\n",
            "中央银行加入了区块链讨论，上百家公司加入了区块链联盟。在过去三年里，区块链的风险投资超过了14亿美元，产生了2500+的区块链相关专利。\n",
            "在国内，2016年底，“区块链”首度被写入《“十三五”国家信息化规划》，中国已有105家区块\n",
            "链相关企业； 2017年6月，《中国金融业信息技术“十三五”发展规划》中指出，央行将积极推动区块链和人工智能等新技术的发展。\n",
            "\n",
            "\n"
          ]
        }
      ]
    }
  ]
}