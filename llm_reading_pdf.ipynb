{
  "nbformat": 4,
  "nbformat_minor": 0,
  "metadata": {
    "colab": {
      "provenance": [],
      "toc_visible": true,
      "authorship_tag": "ABX9TyPplwKQiG2CHdecRAUww60j"
    },
    "kernelspec": {
      "name": "python3",
      "display_name": "Python 3"
    },
    "language_info": {
      "name": "python"
    },
    "widgets": {
      "application/vnd.jupyter.widget-state+json": {
        "90cd20f34e274a3baaa45f8e772c96e7": {
          "model_module": "@jupyter-widgets/controls",
          "model_name": "HBoxModel",
          "model_module_version": "1.5.0",
          "state": {
            "_dom_classes": [],
            "_model_module": "@jupyter-widgets/controls",
            "_model_module_version": "1.5.0",
            "_model_name": "HBoxModel",
            "_view_count": null,
            "_view_module": "@jupyter-widgets/controls",
            "_view_module_version": "1.5.0",
            "_view_name": "HBoxView",
            "box_style": "",
            "children": [
              "IPY_MODEL_0b6fbc837e974487a3a41fda4fe05181",
              "IPY_MODEL_537a71f053d144c58e539fcfe9d62162",
              "IPY_MODEL_ef8a1eab5a6c4ec79fd52e63255bf32d"
            ],
            "layout": "IPY_MODEL_4106e59cd15f4a76af1a8bbc9fa1b535"
          }
        },
        "0b6fbc837e974487a3a41fda4fe05181": {
          "model_module": "@jupyter-widgets/controls",
          "model_name": "HTMLModel",
          "model_module_version": "1.5.0",
          "state": {
            "_dom_classes": [],
            "_model_module": "@jupyter-widgets/controls",
            "_model_module_version": "1.5.0",
            "_model_name": "HTMLModel",
            "_view_count": null,
            "_view_module": "@jupyter-widgets/controls",
            "_view_module_version": "1.5.0",
            "_view_name": "HTMLView",
            "description": "",
            "description_tooltip": null,
            "layout": "IPY_MODEL_198bfb791f9a4e06bd50efdc163c1a64",
            "placeholder": "​",
            "style": "IPY_MODEL_fca8146b997c48ac84fb822e34caccd3",
            "value": "Batches: 100%"
          }
        },
        "537a71f053d144c58e539fcfe9d62162": {
          "model_module": "@jupyter-widgets/controls",
          "model_name": "FloatProgressModel",
          "model_module_version": "1.5.0",
          "state": {
            "_dom_classes": [],
            "_model_module": "@jupyter-widgets/controls",
            "_model_module_version": "1.5.0",
            "_model_name": "FloatProgressModel",
            "_view_count": null,
            "_view_module": "@jupyter-widgets/controls",
            "_view_module_version": "1.5.0",
            "_view_name": "ProgressView",
            "bar_style": "success",
            "description": "",
            "description_tooltip": null,
            "layout": "IPY_MODEL_2929efd439234ab0876d23178a4b8e98",
            "max": 2,
            "min": 0,
            "orientation": "horizontal",
            "style": "IPY_MODEL_4429f2c06d294114af8e7bf07d92a6d6",
            "value": 2
          }
        },
        "ef8a1eab5a6c4ec79fd52e63255bf32d": {
          "model_module": "@jupyter-widgets/controls",
          "model_name": "HTMLModel",
          "model_module_version": "1.5.0",
          "state": {
            "_dom_classes": [],
            "_model_module": "@jupyter-widgets/controls",
            "_model_module_version": "1.5.0",
            "_model_name": "HTMLModel",
            "_view_count": null,
            "_view_module": "@jupyter-widgets/controls",
            "_view_module_version": "1.5.0",
            "_view_name": "HTMLView",
            "description": "",
            "description_tooltip": null,
            "layout": "IPY_MODEL_764a139426a6417fae8b1a1cba2e6d2c",
            "placeholder": "​",
            "style": "IPY_MODEL_c9a40e60f1d04d43a96c5b43f6f8c6b9",
            "value": " 2/2 [00:02&lt;00:00,  1.17s/it]"
          }
        },
        "4106e59cd15f4a76af1a8bbc9fa1b535": {
          "model_module": "@jupyter-widgets/base",
          "model_name": "LayoutModel",
          "model_module_version": "1.2.0",
          "state": {
            "_model_module": "@jupyter-widgets/base",
            "_model_module_version": "1.2.0",
            "_model_name": "LayoutModel",
            "_view_count": null,
            "_view_module": "@jupyter-widgets/base",
            "_view_module_version": "1.2.0",
            "_view_name": "LayoutView",
            "align_content": null,
            "align_items": null,
            "align_self": null,
            "border": null,
            "bottom": null,
            "display": null,
            "flex": null,
            "flex_flow": null,
            "grid_area": null,
            "grid_auto_columns": null,
            "grid_auto_flow": null,
            "grid_auto_rows": null,
            "grid_column": null,
            "grid_gap": null,
            "grid_row": null,
            "grid_template_areas": null,
            "grid_template_columns": null,
            "grid_template_rows": null,
            "height": null,
            "justify_content": null,
            "justify_items": null,
            "left": null,
            "margin": null,
            "max_height": null,
            "max_width": null,
            "min_height": null,
            "min_width": null,
            "object_fit": null,
            "object_position": null,
            "order": null,
            "overflow": null,
            "overflow_x": null,
            "overflow_y": null,
            "padding": null,
            "right": null,
            "top": null,
            "visibility": null,
            "width": null
          }
        },
        "198bfb791f9a4e06bd50efdc163c1a64": {
          "model_module": "@jupyter-widgets/base",
          "model_name": "LayoutModel",
          "model_module_version": "1.2.0",
          "state": {
            "_model_module": "@jupyter-widgets/base",
            "_model_module_version": "1.2.0",
            "_model_name": "LayoutModel",
            "_view_count": null,
            "_view_module": "@jupyter-widgets/base",
            "_view_module_version": "1.2.0",
            "_view_name": "LayoutView",
            "align_content": null,
            "align_items": null,
            "align_self": null,
            "border": null,
            "bottom": null,
            "display": null,
            "flex": null,
            "flex_flow": null,
            "grid_area": null,
            "grid_auto_columns": null,
            "grid_auto_flow": null,
            "grid_auto_rows": null,
            "grid_column": null,
            "grid_gap": null,
            "grid_row": null,
            "grid_template_areas": null,
            "grid_template_columns": null,
            "grid_template_rows": null,
            "height": null,
            "justify_content": null,
            "justify_items": null,
            "left": null,
            "margin": null,
            "max_height": null,
            "max_width": null,
            "min_height": null,
            "min_width": null,
            "object_fit": null,
            "object_position": null,
            "order": null,
            "overflow": null,
            "overflow_x": null,
            "overflow_y": null,
            "padding": null,
            "right": null,
            "top": null,
            "visibility": null,
            "width": null
          }
        },
        "fca8146b997c48ac84fb822e34caccd3": {
          "model_module": "@jupyter-widgets/controls",
          "model_name": "DescriptionStyleModel",
          "model_module_version": "1.5.0",
          "state": {
            "_model_module": "@jupyter-widgets/controls",
            "_model_module_version": "1.5.0",
            "_model_name": "DescriptionStyleModel",
            "_view_count": null,
            "_view_module": "@jupyter-widgets/base",
            "_view_module_version": "1.2.0",
            "_view_name": "StyleView",
            "description_width": ""
          }
        },
        "2929efd439234ab0876d23178a4b8e98": {
          "model_module": "@jupyter-widgets/base",
          "model_name": "LayoutModel",
          "model_module_version": "1.2.0",
          "state": {
            "_model_module": "@jupyter-widgets/base",
            "_model_module_version": "1.2.0",
            "_model_name": "LayoutModel",
            "_view_count": null,
            "_view_module": "@jupyter-widgets/base",
            "_view_module_version": "1.2.0",
            "_view_name": "LayoutView",
            "align_content": null,
            "align_items": null,
            "align_self": null,
            "border": null,
            "bottom": null,
            "display": null,
            "flex": null,
            "flex_flow": null,
            "grid_area": null,
            "grid_auto_columns": null,
            "grid_auto_flow": null,
            "grid_auto_rows": null,
            "grid_column": null,
            "grid_gap": null,
            "grid_row": null,
            "grid_template_areas": null,
            "grid_template_columns": null,
            "grid_template_rows": null,
            "height": null,
            "justify_content": null,
            "justify_items": null,
            "left": null,
            "margin": null,
            "max_height": null,
            "max_width": null,
            "min_height": null,
            "min_width": null,
            "object_fit": null,
            "object_position": null,
            "order": null,
            "overflow": null,
            "overflow_x": null,
            "overflow_y": null,
            "padding": null,
            "right": null,
            "top": null,
            "visibility": null,
            "width": null
          }
        },
        "4429f2c06d294114af8e7bf07d92a6d6": {
          "model_module": "@jupyter-widgets/controls",
          "model_name": "ProgressStyleModel",
          "model_module_version": "1.5.0",
          "state": {
            "_model_module": "@jupyter-widgets/controls",
            "_model_module_version": "1.5.0",
            "_model_name": "ProgressStyleModel",
            "_view_count": null,
            "_view_module": "@jupyter-widgets/base",
            "_view_module_version": "1.2.0",
            "_view_name": "StyleView",
            "bar_color": null,
            "description_width": ""
          }
        },
        "764a139426a6417fae8b1a1cba2e6d2c": {
          "model_module": "@jupyter-widgets/base",
          "model_name": "LayoutModel",
          "model_module_version": "1.2.0",
          "state": {
            "_model_module": "@jupyter-widgets/base",
            "_model_module_version": "1.2.0",
            "_model_name": "LayoutModel",
            "_view_count": null,
            "_view_module": "@jupyter-widgets/base",
            "_view_module_version": "1.2.0",
            "_view_name": "LayoutView",
            "align_content": null,
            "align_items": null,
            "align_self": null,
            "border": null,
            "bottom": null,
            "display": null,
            "flex": null,
            "flex_flow": null,
            "grid_area": null,
            "grid_auto_columns": null,
            "grid_auto_flow": null,
            "grid_auto_rows": null,
            "grid_column": null,
            "grid_gap": null,
            "grid_row": null,
            "grid_template_areas": null,
            "grid_template_columns": null,
            "grid_template_rows": null,
            "height": null,
            "justify_content": null,
            "justify_items": null,
            "left": null,
            "margin": null,
            "max_height": null,
            "max_width": null,
            "min_height": null,
            "min_width": null,
            "object_fit": null,
            "object_position": null,
            "order": null,
            "overflow": null,
            "overflow_x": null,
            "overflow_y": null,
            "padding": null,
            "right": null,
            "top": null,
            "visibility": null,
            "width": null
          }
        },
        "c9a40e60f1d04d43a96c5b43f6f8c6b9": {
          "model_module": "@jupyter-widgets/controls",
          "model_name": "DescriptionStyleModel",
          "model_module_version": "1.5.0",
          "state": {
            "_model_module": "@jupyter-widgets/controls",
            "_model_module_version": "1.5.0",
            "_model_name": "DescriptionStyleModel",
            "_view_count": null,
            "_view_module": "@jupyter-widgets/base",
            "_view_module_version": "1.2.0",
            "_view_name": "StyleView",
            "description_width": ""
          }
        }
      }
    }
  },
  "cells": [
    {
      "cell_type": "markdown",
      "source": [
        "<a href=\"https://colab.research.google.com/github/dai-zz-flora/something_about_llm/blob/main/llm_reading_pdf.ipynb\" target=\"_parent\"><img src=\"https://colab.research.google.com/assets/colab-badge.svg\" alt=\"Open In Colab\"/></a>"
      ],
      "metadata": {
        "id": "O3HG30veVl5y"
      }
    },
    {
      "cell_type": "markdown",
      "source": [
        "# 说明\n",
        "本脚本展示的是如何使用transformer,faiss,sentence-transformers库来调用大语言模型来分析PDF文档，根据文档内容进行问答\n",
        "\n",
        "本文的大语言模型使用的是清华的chatglm，版本是THUDM/chatglm-6b-int4\n",
        "\n"
      ],
      "metadata": {
        "id": "cUj9CetwS1Xl"
      }
    },
    {
      "cell_type": "markdown",
      "source": [
        "# 准备工作\n"
      ],
      "metadata": {
        "id": "jnxz3f55UBIr"
      }
    },
    {
      "cell_type": "markdown",
      "source": [
        "## 1. 检测GPU"
      ],
      "metadata": {
        "id": "8WLj6KyUhJGb"
      }
    },
    {
      "cell_type": "code",
      "source": [
        "!nvidia-smi"
      ],
      "metadata": {
        "id": "afavknLeWjbT",
        "colab": {
          "base_uri": "https://localhost:8080/"
        },
        "outputId": "ed380763-e8ca-4a45-e394-cc286881e475"
      },
      "execution_count": null,
      "outputs": [
        {
          "output_type": "stream",
          "name": "stdout",
          "text": [
            "Thu May 25 14:34:54 2023       \n",
            "+-----------------------------------------------------------------------------+\n",
            "| NVIDIA-SMI 525.85.12    Driver Version: 525.85.12    CUDA Version: 12.0     |\n",
            "|-------------------------------+----------------------+----------------------+\n",
            "| GPU  Name        Persistence-M| Bus-Id        Disp.A | Volatile Uncorr. ECC |\n",
            "| Fan  Temp  Perf  Pwr:Usage/Cap|         Memory-Usage | GPU-Util  Compute M. |\n",
            "|                               |                      |               MIG M. |\n",
            "|===============================+======================+======================|\n",
            "|   0  Tesla T4            Off  | 00000000:00:04.0 Off |                    0 |\n",
            "| N/A   53C    P8     9W /  70W |      0MiB / 15360MiB |      0%      Default |\n",
            "|                               |                      |                  N/A |\n",
            "+-------------------------------+----------------------+----------------------+\n",
            "                                                                               \n",
            "+-----------------------------------------------------------------------------+\n",
            "| Processes:                                                                  |\n",
            "|  GPU   GI   CI        PID   Type   Process name                  GPU Memory |\n",
            "|        ID   ID                                                   Usage      |\n",
            "|=============================================================================|\n",
            "|  No running processes found                                                 |\n",
            "+-----------------------------------------------------------------------------+\n"
          ]
        }
      ]
    },
    {
      "cell_type": "markdown",
      "source": [
        "## 2. 安装必要的python库\n",
        "\n",
        "本文会用到transformer、faiss等比较有名的python库"
      ],
      "metadata": {
        "id": "J-VXhJihW1LG"
      }
    },
    {
      "cell_type": "code",
      "source": [
        "!apt -y update -qq\n",
        "!apt -y install -qq aria2\n",
        "!pip install -q transformers datasets  sentencepiece cpm_kernels mdtex2html accelerate sentencepiece install faiss-gpu  sentence-transformers  PyPDF2 pdfplumber"
      ],
      "metadata": {
        "id": "6kKZlSQtXM2m"
      },
      "execution_count": null,
      "outputs": []
    },
    {
      "cell_type": "markdown",
      "source": [
        "## 3. 下载测试pdf文档"
      ],
      "metadata": {
        "id": "GgvRpJLyXVgp"
      }
    },
    {
      "cell_type": "code",
      "source": [
        "%cd /content\n",
        "!aria2c --console-log-level=error -c -x 16 -s 16 -k 1M \"https://ask.qcloudimg.com/draft/1103456/9xw693yh19.pdf\" -d /content/ -o \"腾讯云区块链TBaaS产品白皮书.pdf\""
      ],
      "metadata": {
        "id": "RMiaMO4EXhcp"
      },
      "execution_count": null,
      "outputs": []
    },
    {
      "cell_type": "markdown",
      "source": [
        "## 4. 定义一个pdf解析函数"
      ],
      "metadata": {
        "id": "Ev5EOuf1cBrM"
      }
    },
    {
      "cell_type": "code",
      "source": [
        "import PyPDF2\n",
        "import pdfplumber\n",
        "import pandas as pd\n",
        "\n",
        "\n",
        "def parse_pdf(pdf_path):\n",
        "    text_pages = []\n",
        "    images = []\n",
        "    tables = []\n",
        "\n",
        "    # parse text from pdf\n",
        "    with open(pdf_path, 'rb') as file:\n",
        "        reader = PyPDF2.PdfReader(file)\n",
        "        num_pages = len(reader.pages)\n",
        "\n",
        "        for i in range(num_pages):\n",
        "            page = reader.pages[i]\n",
        "            text = page.extract_text()\n",
        "            text_pages.append(text)\n",
        "\n",
        "    \n",
        "\n",
        "    # get images and tables from pdf\n",
        "    with pdfplumber.open(pdf_path) as pdf:\n",
        "        for page in pdf.pages:\n",
        "            # 解析图片\n",
        "            extracted_images = page.images\n",
        "            images.extend(extracted_images)\n",
        "\n",
        "            # 解析表格\n",
        "            extracted_tables = page.extract_tables()\n",
        "            for table in extracted_tables:\n",
        "                df = pd.DataFrame(table[1:], columns=table[0])\n",
        "                tables.append(df)\n",
        "\n",
        "    return text_pages, images, tables"
      ],
      "metadata": {
        "id": "84L1oARMcAR7"
      },
      "execution_count": null,
      "outputs": []
    },
    {
      "cell_type": "markdown",
      "source": [
        "## 5. 初始化模型\n",
        "\n",
        "这里我们使用量化后的模型THUDM/chatglm-6b-int4，减少内存占用"
      ],
      "metadata": {
        "id": "CQeiocJUjrQa"
      }
    },
    {
      "cell_type": "code",
      "source": [
        "from transformers import AutoTokenizer, AutoModel\n",
        "mode_name='THUDM/chatglm-6b-int4'\n",
        "tokenizer = AutoTokenizer.from_pretrained(mode_name, trust_remote_code=True)\n",
        "model = AutoModel.from_pretrained(mode_name, trust_remote_code=True).half().cuda()"
      ],
      "metadata": {
        "id": "7p6OsomzjpSO"
      },
      "execution_count": null,
      "outputs": []
    },
    {
      "cell_type": "markdown",
      "source": [
        "# PDF解析\n",
        "\n",
        "\n"
      ],
      "metadata": {
        "id": "uo2RH2RNgp4W"
      }
    },
    {
      "cell_type": "markdown",
      "source": [
        "## 1. 解析PDF"
      ],
      "metadata": {
        "id": "ZgtpYveFhzYf"
      }
    },
    {
      "cell_type": "code",
      "source": [
        "parsed_text, parsed_images, parsed_tables = parse_pdf(\"/content/腾讯云区块链TBaaS产品白皮书.pdf\")"
      ],
      "metadata": {
        "id": "futaUOlAhXaf"
      },
      "execution_count": null,
      "outputs": []
    },
    {
      "cell_type": "markdown",
      "source": [
        "## 2. 生成文本向量\n",
        "\n",
        "使用 [sentence transformers库](https://www.sbert.net/) 来生成基于词嵌入的文本向量，选用的模型是 [GanymedeNil/text2vec-large-chinese](https://huggingface.co/GanymedeNil/text2vec-large-chinese)"
      ],
      "metadata": {
        "id": "7xiyLMVNiHvP"
      }
    },
    {
      "cell_type": "code",
      "source": [
        "import faiss\n",
        "import numpy as np\n",
        "from sentence_transformers import SentenceTransformer\n",
        "embeddings_model = SentenceTransformer(\"shibing624/text2vec-base-chinese\")\n",
        "# Compute embeddings for all senteces in the corpus\n",
        "embeddings_corpus = embeddings_model.encode(parsed_text, show_progress_bar=True)\n",
        "\n",
        "# Change data type of embeddings\n",
        "embeddings = np.array([embedding for embedding in embeddings_corpus]).astype(\"float32\")"
      ],
      "metadata": {
        "id": "ecqcJZg_iQ01",
        "colab": {
          "base_uri": "https://localhost:8080/",
          "height": 49,
          "referenced_widgets": [
            "90cd20f34e274a3baaa45f8e772c96e7",
            "0b6fbc837e974487a3a41fda4fe05181",
            "537a71f053d144c58e539fcfe9d62162",
            "ef8a1eab5a6c4ec79fd52e63255bf32d",
            "4106e59cd15f4a76af1a8bbc9fa1b535",
            "198bfb791f9a4e06bd50efdc163c1a64",
            "fca8146b997c48ac84fb822e34caccd3",
            "2929efd439234ab0876d23178a4b8e98",
            "4429f2c06d294114af8e7bf07d92a6d6",
            "764a139426a6417fae8b1a1cba2e6d2c",
            "c9a40e60f1d04d43a96c5b43f6f8c6b9"
          ]
        },
        "outputId": "d3882e09-cfb3-4c55-ea58-98e354476ec8"
      },
      "execution_count": null,
      "outputs": [
        {
          "output_type": "display_data",
          "data": {
            "text/plain": [
              "Batches:   0%|          | 0/2 [00:00<?, ?it/s]"
            ],
            "application/vnd.jupyter.widget-view+json": {
              "version_major": 2,
              "version_minor": 0,
              "model_id": "90cd20f34e274a3baaa45f8e772c96e7"
            }
          },
          "metadata": {}
        }
      ]
    },
    {
      "cell_type": "markdown",
      "source": [
        "##3. 利用faiss库建立向量空间索引"
      ],
      "metadata": {
        "id": "rWd1JP3RiPTU"
      }
    },
    {
      "cell_type": "code",
      "source": [
        "\n",
        "# Instantiate the index with faiss\n",
        "index = faiss.IndexFlatL2(embeddings.shape[1])\n",
        "\n",
        "# # Pass the index to IndexIDMap\n",
        "# index = faiss.IndexIDMap(index\n",
        "index.add(embeddings)"
      ],
      "metadata": {
        "id": "OYzVq4EFjDRZ"
      },
      "execution_count": null,
      "outputs": []
    },
    {
      "cell_type": "markdown",
      "source": [
        "# 使用ChatGLM-6B来构建对话模型\n"
      ],
      "metadata": {
        "id": "r87aPza9jLNA"
      }
    },
    {
      "cell_type": "markdown",
      "source": [
        "## 1. 初始化问题，并在向量空间索引中搜寻相关章节\n",
        "\n",
        "2.1. 生成问题向量\n",
        "\n",
        "2.2 搜寻前5个相似的章节\n",
        "\n",
        "2.3 将章节拼接为上下文"
      ],
      "metadata": {
        "id": "UbXR1S_QkDKW"
      }
    },
    {
      "cell_type": "code",
      "source": [
        "question = '白皮书都讲了什么'\n",
        "question_vector = embeddings_model.encode([question])\n",
        "\n",
        "# 查询最相似的文本\n",
        "k = 5  # 返回最近邻的数量\n",
        "_, indices = index.search(np.array(question_vector).astype(\"float32\"), k)\n",
        "\n",
        "# 获取最相关的文本\n",
        "related_docs = [parsed_text[idx] for idx in indices[0]]\n",
        "# 拼接上下文\n",
        "context = \"\\n\".join([content for content in related_docs])\n",
        "# for text in related_docs:\n",
        "#   print(text)"
      ],
      "metadata": {
        "id": "BovsiWqGkPas"
      },
      "execution_count": null,
      "outputs": []
    },
    {
      "cell_type": "markdown",
      "source": [
        "## 2. 根据问题模板生成问题"
      ],
      "metadata": {
        "id": "96CDF3MkkONB"
      }
    },
    {
      "cell_type": "code",
      "source": [
        "PROMPT_TEMPLATE = \"\"\"已知信息：\n",
        "{context} \n",
        "\n",
        "根据上述已知信息，简洁和专业的来回答用户的问题。如果无法从中得到答案，请说 “根据已知信息无法回答该问题” 或 “没有提供足够的相关信息”，不允许在答案中添加编造成分，答案请使用中文。 问题是：{question}\"\"\"\n",
        "\n",
        "prompt = PROMPT_TEMPLATE.replace(\"{question}\", question).replace(\"{context}\", context)"
      ],
      "metadata": {
        "id": "94RUp27eljqy"
      },
      "execution_count": null,
      "outputs": []
    },
    {
      "cell_type": "markdown",
      "source": [
        "## 3. 交给模型解答问题"
      ],
      "metadata": {
        "id": "6-KzyuRslhwT"
      }
    },
    {
      "cell_type": "code",
      "source": [
        "import torch\n",
        "max_token = 10000\n",
        "temperature = 0.8\n",
        "top_p = 0.9\n",
        "history = []\n",
        "\n",
        "response, _ = model.chat(tokenizer,prompt,history=[],max_length=max_token,temperature=temperature,top_p=top_p,)\n",
        "\n",
        "\n",
        "print(response)\n",
        "print(\"\\n相关文档如下\\n\")\n",
        "for text in related_docs:\n",
        "  print(text)\n",
        "  print(\"\\n\")"
      ],
      "metadata": {
        "id": "UABUVmTamXkP"
      },
      "execution_count": null,
      "outputs": []
    }
  ]
}