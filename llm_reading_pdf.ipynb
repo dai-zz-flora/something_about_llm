{
  "nbformat": 4,
  "nbformat_minor": 0,
  "metadata": {
    "colab": {
      "provenance": [],
      "toc_visible": true,
      "authorship_tag": "ABX9TyPBt4jd+yjk/t8BpCfWo/vY",
      "include_colab_link": true
    },
    "kernelspec": {
      "name": "python3",
      "display_name": "Python 3"
    },
    "language_info": {
      "name": "python"
    }
  },
  "cells": [
    {
      "cell_type": "markdown",
      "metadata": {
        "id": "view-in-github",
        "colab_type": "text"
      },
      "source": [
        "<a href=\"https://colab.research.google.com/github/dai-zz-flora/running_transformer/blob/master/llm_reading_pdf.ipynb\" target=\"_parent\"><img src=\"https://colab.research.google.com/assets/colab-badge.svg\" alt=\"Open In Colab\"/></a>"
      ]
    },
    {
      "cell_type": "markdown",
      "source": [
        "# 说明\n",
        "本脚本展示的是如何用各种大语言模型来分析PDF文档，包括如下功能\n",
        "1. 解析PDF文档\n",
        "2. 生成向量库\n",
        "3. 对文档进行总结\n",
        "4. 对文档进行问答\n",
        "5. 对文档中的图片进行分析，总结  \n",
        "6. 对文档中的表格进行分析，总结\n",
        "7. 对多个PDF文档进行分析、问答和总结\n"
      ],
      "metadata": {
        "id": "cUj9CetwS1Xl"
      }
    },
    {
      "cell_type": "markdown",
      "source": [
        "# 在开始之前你需要做一些准备工作"
      ],
      "metadata": {
        "id": "jnxz3f55UBIr"
      }
    },
    {
      "cell_type": "code",
      "execution_count": null,
      "metadata": {
        "id": "6sZZhsIsRHV1"
      },
      "outputs": [],
      "source": []
    }
  ]
}