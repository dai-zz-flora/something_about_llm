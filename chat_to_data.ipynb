{
  "nbformat": 4,
  "nbformat_minor": 0,
  "metadata": {
    "colab": {
      "provenance": [],
      "toc_visible": true,
      "authorship_tag": "ABX9TyOluyVrRO5cvtdjd3mJv9rG"
    },
    "kernelspec": {
      "name": "python3",
      "display_name": "Python 3"
    },
    "language_info": {
      "name": "python"
    },
    "widgets": {
      "application/vnd.jupyter.widget-state+json": {
        "f86755a60ecd4e6280d1e9eb64d8a4e6": {
          "model_module": "@jupyter-widgets/controls",
          "model_name": "HBoxModel",
          "model_module_version": "1.5.0",
          "state": {
            "_dom_classes": [],
            "_model_module": "@jupyter-widgets/controls",
            "_model_module_version": "1.5.0",
            "_model_name": "HBoxModel",
            "_view_count": null,
            "_view_module": "@jupyter-widgets/controls",
            "_view_module_version": "1.5.0",
            "_view_name": "HBoxView",
            "box_style": "",
            "children": [
              "IPY_MODEL_fb303905cc4343ae8c646175ea6bea47"
            ],
            "layout": "IPY_MODEL_c3c94875a9244b32aa02add84f4d0986"
          }
        },
        "fb303905cc4343ae8c646175ea6bea47": {
          "model_module": "@jupyter-widgets/controls",
          "model_name": "TextareaModel",
          "model_module_version": "1.5.0",
          "state": {
            "_dom_classes": [],
            "_model_module": "@jupyter-widgets/controls",
            "_model_module_version": "1.5.0",
            "_model_name": "TextareaModel",
            "_view_count": null,
            "_view_module": "@jupyter-widgets/controls",
            "_view_module_version": "1.5.0",
            "_view_name": "TextareaView",
            "continuous_update": true,
            "description": "问题",
            "description_tooltip": null,
            "disabled": false,
            "layout": "IPY_MODEL_13add49b25684f2b9942a4dc431b09e3",
            "placeholder": "问题描述",
            "rows": null,
            "style": "IPY_MODEL_44d06cd5f41e4f8597fc005f825cb102",
            "value": "新生成一列total，值等于每一行的total_bedrooms列和population列相乘,打印total列"
          }
        },
        "c3c94875a9244b32aa02add84f4d0986": {
          "model_module": "@jupyter-widgets/base",
          "model_name": "LayoutModel",
          "model_module_version": "1.2.0",
          "state": {
            "_model_module": "@jupyter-widgets/base",
            "_model_module_version": "1.2.0",
            "_model_name": "LayoutModel",
            "_view_count": null,
            "_view_module": "@jupyter-widgets/base",
            "_view_module_version": "1.2.0",
            "_view_name": "LayoutView",
            "align_content": null,
            "align_items": null,
            "align_self": null,
            "border": null,
            "bottom": null,
            "display": null,
            "flex": null,
            "flex_flow": null,
            "grid_area": null,
            "grid_auto_columns": null,
            "grid_auto_flow": null,
            "grid_auto_rows": null,
            "grid_column": null,
            "grid_gap": null,
            "grid_row": null,
            "grid_template_areas": null,
            "grid_template_columns": null,
            "grid_template_rows": null,
            "height": null,
            "justify_content": null,
            "justify_items": null,
            "left": null,
            "margin": null,
            "max_height": null,
            "max_width": null,
            "min_height": null,
            "min_width": null,
            "object_fit": null,
            "object_position": null,
            "order": null,
            "overflow": null,
            "overflow_x": null,
            "overflow_y": null,
            "padding": null,
            "right": null,
            "top": null,
            "visibility": null,
            "width": null
          }
        },
        "13add49b25684f2b9942a4dc431b09e3": {
          "model_module": "@jupyter-widgets/base",
          "model_name": "LayoutModel",
          "model_module_version": "1.2.0",
          "state": {
            "_model_module": "@jupyter-widgets/base",
            "_model_module_version": "1.2.0",
            "_model_name": "LayoutModel",
            "_view_count": null,
            "_view_module": "@jupyter-widgets/base",
            "_view_module_version": "1.2.0",
            "_view_name": "LayoutView",
            "align_content": null,
            "align_items": null,
            "align_self": null,
            "border": null,
            "bottom": null,
            "display": null,
            "flex": null,
            "flex_flow": null,
            "grid_area": null,
            "grid_auto_columns": null,
            "grid_auto_flow": null,
            "grid_auto_rows": null,
            "grid_column": null,
            "grid_gap": null,
            "grid_row": null,
            "grid_template_areas": null,
            "grid_template_columns": null,
            "grid_template_rows": null,
            "height": "300px",
            "justify_content": null,
            "justify_items": null,
            "left": null,
            "margin": null,
            "max_height": null,
            "max_width": null,
            "min_height": null,
            "min_width": null,
            "object_fit": null,
            "object_position": null,
            "order": null,
            "overflow": null,
            "overflow_x": null,
            "overflow_y": null,
            "padding": null,
            "right": null,
            "top": null,
            "visibility": null,
            "width": "800px"
          }
        },
        "44d06cd5f41e4f8597fc005f825cb102": {
          "model_module": "@jupyter-widgets/controls",
          "model_name": "DescriptionStyleModel",
          "model_module_version": "1.5.0",
          "state": {
            "_model_module": "@jupyter-widgets/controls",
            "_model_module_version": "1.5.0",
            "_model_name": "DescriptionStyleModel",
            "_view_count": null,
            "_view_module": "@jupyter-widgets/base",
            "_view_module_version": "1.2.0",
            "_view_name": "StyleView",
            "description_width": ""
          }
        }
      }
    }
  },
  "cells": [
    {
      "cell_type": "markdown",
      "source": [
        "\n",
        "<a href=\"https://github.com/dai-zz-flora/dai-zz-flora.github.com/blob/master/chat_with_data.ipynb\" target=\"_parent\"><img src=\"https://colab.research.google.com/assets/colab-badge.svg\" alt=\"Open In Colab\"/></a>"
      ],
      "metadata": {
        "id": "KlSrU37t-LtE"
      }
    },
    {
      "cell_type": "markdown",
      "metadata": {
        "id": "tTVqCAgSmie4"
      },
      "source": [
        "# I. 准备工作"
      ]
    },
    {
      "cell_type": "code",
      "source": [
        "# @title ### 1.1 安装依赖\n",
        "%env TF_CPP_MIN_LOG_LEVEL=1\n",
        "\n",
        "!apt -y update -qq\n",
        "!apt -y install -qq aria2\n",
        "!pip install -q transformers datasets  sentencepiece cpm_kernels mdtex2html accelerate sentencepiece install faiss-gpu  sentence-transformers  PyPDF2 pdfplumber sacremoses"
      ],
      "metadata": {
        "id": "0T-nJ_V96kh1"
      },
      "execution_count": null,
      "outputs": []
    },
    {
      "cell_type": "code",
      "source": [
        "# @title ## 1.2. 指定数据集\n",
        "\n",
        "\n",
        "# @markdown ### 本地路径\n",
        "data_name = \"/content/sample_data/california_housing_train.csv\"  # @param [\"\", \"/content/sample_data/california_housing_train.csv\", \"/content/sample_data/mnist_test.csv\"]\n",
        "# @markdown ### 下载路径，格式为csv后缀\n",
        "download_url = None  # @param \n",
        "\n",
        "data_file_name = \"\"\n",
        "if download_url:\n",
        "  !aria2c --console-log-level=error -c -x 16 -s 16 -k 1M \"{download_url}\" -d /content/sample_data -o download_data.csv\n",
        "  data_file_name = \"/content/sample_data/download_data.csv\"\n",
        "else:\n",
        "  data_file_name = data_name\n",
        "\n",
        "\n"
      ],
      "metadata": {
        "id": "fl9Ug3lc62R6"
      },
      "execution_count": null,
      "outputs": []
    },
    {
      "cell_type": "code",
      "source": [
        "# @title ## 1.3 定义工具函数\n",
        "def extract_text_between_a_and_b(text, a, b):\n",
        "  start_index = text.rfind(a)\n",
        "  end_index = text.find(b,start_index+3)\n",
        "    \n",
        "  if start_index == -1 or end_index == -1:\n",
        "    return None\n",
        "    \n",
        "  return text[start_index + len(a):end_index]"
      ],
      "metadata": {
        "id": "1fJb3Y1bJNFb"
      },
      "execution_count": null,
      "outputs": []
    },
    {
      "cell_type": "markdown",
      "source": [
        "# II. 用THUDM/chatglm-6b来生成代码"
      ],
      "metadata": {
        "id": "XqP2MBris-SS"
      }
    },
    {
      "cell_type": "code",
      "source": [
        "# @title # 2.1. 生成问题描述输入框\n",
        "from ipywidgets import widgets\n",
        "from IPython.display import display\n",
        "\n",
        "textarea = widgets.Textarea(\n",
        "    value='新生成一列total，值等于每一行的total_bedrooms列和population列相乘,打印total列',  # 填入默认值，可以为空\n",
        "    placeholder='问题描述',  # 在文本框中显示的提示文本\n",
        "    description='问题',  # 描述文本，显示在文本框上方\n",
        "    disabled=False , # 是否禁用\n",
        "     layout=widgets.Layout(width='800px', height='300px')\n",
        ")\n",
        "\n",
        " \n",
        " \n",
        "display(widgets.HBox([textarea,]))"
      ],
      "metadata": {
        "colab": {
          "base_uri": "https://localhost:8080/",
          "height": 321,
          "referenced_widgets": [
            "f86755a60ecd4e6280d1e9eb64d8a4e6",
            "fb303905cc4343ae8c646175ea6bea47",
            "c3c94875a9244b32aa02add84f4d0986",
            "13add49b25684f2b9942a4dc431b09e3",
            "44d06cd5f41e4f8597fc005f825cb102"
          ]
        },
        "id": "5JZPucekChhP",
        "outputId": "9e3d0c0e-bb08-441e-e4b8-a2676462352d"
      },
      "execution_count": null,
      "outputs": [
        {
          "output_type": "display_data",
          "data": {
            "text/plain": [
              "HBox(children=(Textarea(value='新生成一列total，值等于每一行的total_bedrooms列和population列相乘,打印total列', description='问题', la…"
            ],
            "application/vnd.jupyter.widget-view+json": {
              "version_major": 2,
              "version_minor": 0,
              "model_id": "f86755a60ecd4e6280d1e9eb64d8a4e6"
            }
          },
          "metadata": {}
        }
      ]
    },
    {
      "cell_type": "code",
      "source": [
        "# @title ## 2.2. 生成prompt\n",
        "PROMPT_TEMPLATE = \"\"\"\n",
        "写一段python代码，利用pandas库来解决下面的问题:\n",
        "读取文件 {0} 到一个叫df的DataFrame变量，对df进行操作，{1}\n",
        "\n",
        "\n",
        "\n",
        "\"\"\"\n",
        "code_desc = textarea.value\n",
        "\n",
        "\n",
        "\n",
        "prompt = PROMPT_TEMPLATE.format(data_file_name,code_desc)\n",
        "print(prompt)"
      ],
      "metadata": {
        "id": "S1NFg4zCC1TR"
      },
      "execution_count": null,
      "outputs": []
    },
    {
      "cell_type": "code",
      "source": [
        "# @title ## 2.3. 初始化模型，为了节省内存使用chatglm-6b-int4\n",
        "\n",
        "from transformers import AutoTokenizer, AutoModel\n",
        "checkpoint = \"THUDM/chatglm-6b-int4\"\n",
        "code_tokenizer = AutoTokenizer.from_pretrained(checkpoint, trust_remote_code=True)\n",
        "code_model = AutoModel.from_pretrained(checkpoint, trust_remote_code=True).half().cuda()\n"
      ],
      "metadata": {
        "id": "HJvlIi6JSm6m"
      },
      "execution_count": null,
      "outputs": []
    },
    {
      "cell_type": "code",
      "source": [
        "# @title ## 2.4. 生成回答，从回答中截取代码\n",
        "\n",
        "code_model = code_model.eval()\n",
        "response, history = code_model.chat(code_tokenizer, prompt, history=[])\n",
        "# \n",
        "result_code = extract_text_between_a_and_b(response,\"```python\",\"```\")\n",
        "print(\"---- 这是原回答\")\n",
        "print(response)\n",
        "print(\"\\n\\n--- 这是截取的代码\")\n",
        "print(result_code)"
      ],
      "metadata": {
        "id": "IQXzpFx4yrlB"
      },
      "execution_count": null,
      "outputs": []
    },
    {
      "cell_type": "code",
      "source": [
        "# @title ## 2.4. 执行代码，并拿到局部变量的\n",
        "exec(result_code,locals())\n",
        "df = locals()[\"df\"]\n"
      ],
      "metadata": {
        "id": "itO_jNNXJ2bC"
      },
      "execution_count": null,
      "outputs": []
    }
  ]
}